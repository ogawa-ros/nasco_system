{
 "cells": [
  {
   "cell_type": "code",
   "execution_count": 1,
   "metadata": {},
   "outputs": [],
   "source": [
    "import numpy\n",
    "import pandas\n",
    "from n2lite import n2lite\n",
    "import matplotlib\n",
    "import matplotlib.pyplot as plt\n",
    "\n",
    "matplotlib.rcParams['figure.facecolor'] = 'white'"
   ]
  },
  {
   "cell_type": "code",
   "execution_count": 8,
   "metadata": {},
   "outputs": [],
   "source": [
    "beam1 = '3l'\n",
    "beam2 = '2r'\n",
    "beam3 = '5l'\n",
    "beam = [beam1, beam2, beam3]\n",
    "backend = ['power meter1', 'power meter 2', 'xffts']\n",
    "\n",
    "\n",
    "path_hot = './hot_param.db'\n",
    "path_cold = './cold_param.db'"
   ]
  },
  {
   "cell_type": "code",
   "execution_count": 3,
   "metadata": {},
   "outputs": [],
   "source": [
    "_hot = n2lite.N2lite(path_hot)\n",
    "_cold = n2lite.N2lite(path_cold)\n",
    "hot = _hot.read_pandas_all()\n",
    "cold = _cold.read_pandas_all()"
   ]
  },
  {
   "cell_type": "code",
   "execution_count": 4,
   "metadata": {},
   "outputs": [],
   "source": [
    "# param\n",
    "\n",
    "initial_voltage = 6.0\n",
    "final_voltage = 9.0\n",
    "step = 0.05\n",
    "roop = int((final_voltage - initial_voltage) / step) + 1"
   ]
  },
  {
   "cell_type": "code",
   "execution_count": 5,
   "metadata": {},
   "outputs": [],
   "source": [
    "bins = numpy.arange(initial_voltage - step/2, final_voltage + step/2 , step)\n",
    "\n",
    "def set_flag(x):\n",
    "    if x < bins[0]:return -1\n",
    "    for i in range(len(bins)-1):\n",
    "        if x >= bins[i] and x < bins[i+1]:return i+step/2\n",
    "        elif x > bins[len(bins)-1] :return -1\n",
    "        continue\n",
    "    return len(bins)"
   ]
  },
  {
   "cell_type": "code",
   "execution_count": 6,
   "metadata": {},
   "outputs": [
    {
     "ename": "TypeError",
     "evalue": "list indices must be integers or slices, not str",
     "output_type": "error",
     "traceback": [
      "\u001b[0;31m-----------------------------------------------\u001b[0m",
      "\u001b[0;31mTypeError\u001b[0m     Traceback (most recent call last)",
      "\u001b[0;32m<ipython-input-6-fed3b4f86a7d>\u001b[0m in \u001b[0;36m<module>\u001b[0;34m\u001b[0m\n\u001b[1;32m      1\u001b[0m \u001b[0;31m# set_flag\u001b[0m\u001b[0;34m\u001b[0m\u001b[0;34m\u001b[0m\u001b[0m\n\u001b[1;32m      2\u001b[0m \u001b[0;34m\u001b[0m\u001b[0m\n\u001b[0;32m----> 3\u001b[0;31m \u001b[0mhot\u001b[0m\u001b[0;34m[\u001b[0m\u001b[0;34m'pm1_flag'\u001b[0m\u001b[0;34m]\u001b[0m \u001b[0;34m=\u001b[0m \u001b[0mhot\u001b[0m\u001b[0;34m[\u001b[0m\u001b[0;34m'sis_vol_'\u001b[0m\u001b[0;34m+\u001b[0m\u001b[0mbeam1\u001b[0m\u001b[0;34m]\u001b[0m\u001b[0;34m.\u001b[0m\u001b[0mapply\u001b[0m\u001b[0;34m(\u001b[0m\u001b[0mset_flag\u001b[0m\u001b[0;34m)\u001b[0m\u001b[0;34m\u001b[0m\u001b[0m\n\u001b[0m\u001b[1;32m      4\u001b[0m \u001b[0mhot\u001b[0m\u001b[0;34m[\u001b[0m\u001b[0;34m'pm2_flag'\u001b[0m\u001b[0;34m]\u001b[0m \u001b[0;34m=\u001b[0m \u001b[0mhot\u001b[0m\u001b[0;34m[\u001b[0m\u001b[0;34m'sis_vol_'\u001b[0m\u001b[0;34m+\u001b[0m\u001b[0mbeam2\u001b[0m\u001b[0;34m]\u001b[0m\u001b[0;34m.\u001b[0m\u001b[0mapply\u001b[0m\u001b[0;34m(\u001b[0m\u001b[0mset_flag\u001b[0m\u001b[0;34m)\u001b[0m\u001b[0;34m\u001b[0m\u001b[0m\n\u001b[1;32m      5\u001b[0m \u001b[0mhot\u001b[0m\u001b[0;34m[\u001b[0m\u001b[0;34m'xffts_flag'\u001b[0m\u001b[0;34m]\u001b[0m \u001b[0;34m=\u001b[0m \u001b[0mhot\u001b[0m\u001b[0;34m[\u001b[0m\u001b[0;34m'sis_vol_'\u001b[0m\u001b[0;34m+\u001b[0m\u001b[0mbeam3\u001b[0m\u001b[0;34m]\u001b[0m\u001b[0;34m.\u001b[0m\u001b[0mapply\u001b[0m\u001b[0;34m(\u001b[0m\u001b[0mset_flag\u001b[0m\u001b[0;34m)\u001b[0m\u001b[0;34m\u001b[0m\u001b[0m\n",
      "\u001b[0;31mTypeError\u001b[0m: list indices must be integers or slices, not str"
     ]
    }
   ],
   "source": [
    "# set_flag\n",
    "\n",
    "hot['pm1_flag'] = hot['sis_vol_'+beam1].apply(set_flag)\n",
    "hot['pm2_flag'] = hot['sis_vol_'+beam2].apply(set_flag)\n",
    "hot['xffts_flag'] = hot['sis_vol_'+beam3].apply(set_flag)\n",
    "cold['pm1_flag'] = cold['sis_vol_'+beam1].apply(set_flag)\n",
    "cold['pm2_flag'] = cold['sis_vol_'+beam2].apply(set_flag)\n",
    "cold['xffts_flag'] = cold['sis_vol_'+beam3].apply(set_flag)\n",
    "# hot = hot[hot['pm1_flag'] != -1][hot['pm2_flag'] != -1][hot['xffts_flag'] != -1]\n",
    "# cold = cold[cold['pm1_flag'] != -1][cold['pm2_flag'] != -1][cold['xffts_flag'] != -1]"
   ]
  },
  {
   "cell_type": "code",
   "execution_count": null,
   "metadata": {},
   "outputs": [],
   "source": [
    "# groupby\n",
    "\n",
    "hot1_groupby = hot.groupby('pm1_flag')\n",
    "cold1_groupby = cold.groupby('pm1_flag')\n",
    "hot1_mean = hot1_groupby.mean()\n",
    "cold1_mean = cold1_groupby.mean()\n",
    "hot2_groupby = hot.groupby('pm2_flag')\n",
    "cold2_groupby = cold.groupby('pm2_flag')\n",
    "hot2_mean = hot2_groupby.mean()\n",
    "cold2_mean = cold2_groupby.mean()\n",
    "hot3_groupby = hot.groupby('xffts_flag')\n",
    "cold3_groupby = cold.groupby('xffts_flag')\n",
    "hot3_mean = hot3_groupby.mean()\n",
    "cold3_mean = cold3_groupby.mean()"
   ]
  },
  {
   "cell_type": "code",
   "execution_count": null,
   "metadata": {},
   "outputs": [],
   "source": [
    "# plot param\n",
    "\n",
    "# plot param\n",
    "\n",
    "vol1_hot = hot1_mean['sis_vol_{}'.format(beam1)]\n",
    "vol2_hot = hot2_mean['sis_vol_{}'.format(beam2)]\n",
    "vol3_hot = hot3_mean['sis_vol_{}'.format(beam3)]\n",
    "cur1_hot = hot1_mean['sis_cur_{}'.format(beam1)]\n",
    "cur2_hot = hot2_mean['sis_cur_{}'.format(beam2)]\n",
    "cur3_hot = hot3_mean['sis_cur_{}'.format(beam3)]\n",
    "power1_hot = hot1_mean['power_1'.format(beam1)]\n",
    "power2_hot = hot2_mean['power_2'.format(beam2)]\n",
    "power3_hot = hot3_mean['xffts_1']\n",
    "\n",
    "vol1_cold = cold1_mean['sis_vol_{}'.format(beam1)]\n",
    "vol2_cold = cold2_mean['sis_vol_{}'.format(beam2)]\n",
    "vol3_cold = cold3_mean['sis_vol_{}'.format(beam3)]\n",
    "cur1_cold = cold1_mean['sis_cur_{}'.format(beam1)]\n",
    "cur2_cold = cold2_mean['sis_cur_{}'.format(beam2)]\n",
    "cur3_cold = cold3_mean['sis_cur_{}'.format(beam3)]\n",
    "power1_cold = cold1_mean['power_1'.format(beam1)]\n",
    "power2_cold = cold2_mean['power_2'.format(beam2)]\n",
    "power3_cold = cold3_mean['xffts_1']\n",
    "\n",
    "vol_hot = numpy.array([numpy.array(vol1_hot), numpy.array(vol2_hot), numpy.array(vol3_hot)])\n",
    "cur_hot = numpy.array([numpy.array(cur1_hot), numpy.array(cur2_hot), numpy.array(cur3_cold)])\n",
    "power_hot = numpy.array([numpy.array(power1_hot), numpy.array(power2_hot), numpy.array(power3_hot)])\n",
    "vol_cold = numpy.array([numpy.array(vol1_cold), numpy.array(vol2_cold), numpy.array(vol3_cold)])\n",
    "cur_cold = numpy.array([numpy.array(cur1_cold), numpy.array(cur2_cold), numpy.array(cur3_cold)])\n",
    "power_cold = numpy.array([numpy.array(power1_cold), numpy.array(power2_cold), numpy.array(power3_cold)])"
   ]
  },
  {
   "cell_type": "code",
   "execution_count": null,
   "metadata": {},
   "outputs": [],
   "source": [
    "ncol = 3\n",
    "nrow = 1\n",
    "nax = ncol * nrow\n",
    "\n",
    "matplotlib.rcParams['savefig.dpi'] = 50\n",
    "matplotlib.rcParams['font.size'] = 24\n",
    "\n",
    "figsize = (ncol * 8, nrow * 8)\n",
    "\n",
    "fig = matplotlib.pyplot.figure(figsize=figsize)\n",
    "ax = [fig.add_subplot(nrow, ncol, i+1) for i in range(nax)]\n",
    "\n",
    "# hot / cold\n",
    "\n",
    "for _ax, _vol_hot, _cur_hot, _vol_cold, _cur_cold, _hot, _cold, _beam in zip(ax, vol_hot, cur_hot, \\\n",
    "                                                                                                                                       vol_cold, cur_cold, \\\n",
    "                                                                                                                                        power_hot, power_cold, beam):\n",
    "    _ax.plot(_vol_cold, _cur_cold, '.-', label='cold')\n",
    "    _ax.plot(_vol_hot, _cur_hot, '.-', label='hot')\n",
    "    _ax.grid()\n",
    "    _ax.set_xlabel('voltage [mV]')\n",
    "    _ax.set_ylabel('current [uA]')\n",
    "    _ax.set_xlim(initial_voltage - 0.3, final_voltage + 0.3)\n",
    "    _ax.legend()\n",
    "    _ax.set_title('beam : {}'.format(_beam))    "
   ]
  },
  {
   "cell_type": "code",
   "execution_count": 7,
   "metadata": {},
   "outputs": [
    {
     "ename": "NameError",
     "evalue": "name 'vol_hot' is not defined",
     "output_type": "error",
     "traceback": [
      "\u001b[0;31m-----------------------------------------------\u001b[0m",
      "\u001b[0;31mNameError\u001b[0m     Traceback (most recent call last)",
      "\u001b[0;32m<ipython-input-7-70c90102b942>\u001b[0m in \u001b[0;36m<module>\u001b[0;34m\u001b[0m\n\u001b[1;32m     15\u001b[0m \u001b[0;31m# hot / cold\u001b[0m\u001b[0;34m\u001b[0m\u001b[0;34m\u001b[0m\u001b[0m\n\u001b[1;32m     16\u001b[0m \u001b[0;34m\u001b[0m\u001b[0m\n\u001b[0;32m---> 17\u001b[0;31m for _ax, _vol_hot, _cur_hot, _vol_cold, _cur_cold, _hot, _cold, _beam, _backend in zip(ax1, vol_hot, cur_hot, \\\n\u001b[0m\u001b[1;32m     18\u001b[0m                                                                                                                                        \u001b[0mvol_cold\u001b[0m\u001b[0;34m,\u001b[0m \u001b[0mcur_cold\u001b[0m\u001b[0;34m,\u001b[0m\u001b[0;31m \u001b[0m\u001b[0;31m\\\u001b[0m\u001b[0;34m\u001b[0m\u001b[0m\n\u001b[1;32m     19\u001b[0m                                                                                                                                         power_hot, power_cold, beam, backend):\n",
      "\u001b[0;31mNameError\u001b[0m: name 'vol_hot' is not defined"
     ]
    },
    {
     "data": {
      "image/png": "[encoded data removed]",
      "text/plain": [
       "<matplotlib.figure.Figure at 0x7fc03a67fd68>"
      ]
     },
     "metadata": {
      "needs_background": "light"
     },
     "output_type": "display_data"
    }
   ],
   "source": [
    "ncol = 3\n",
    "nrow = 1\n",
    "nax = ncol * nrow\n",
    "\n",
    "matplotlib.rcParams['savefig.dpi'] = 200\n",
    "matplotlib.rcParams['font.size'] = 24\n",
    "\n",
    "figsize = (ncol * 10, nrow * 10)\n",
    "\n",
    "fig = matplotlib.pyplot.figure(figsize=figsize)\n",
    "ax = [fig.add_subplot(nrow, ncol, i+1) for i in range(nax)]\n",
    "\n",
    "ax1 = [_ax.twinx() for _ax in ax]\n",
    "\n",
    "# hot / cold\n",
    "\n",
    "for _ax, _vol_hot, _cur_hot, _vol_cold, _cur_cold, _hot, _cold, _beam, _backend in zip(ax1, vol_hot, cur_hot, \\\n",
    "                                                                                                                                       vol_cold, cur_cold, \\\n",
    "                                                                                                                                        power_hot, power_cold, beam, backend):\n",
    "    _ax.plot(_vol_hot, _cur_hot, color='red')\n",
    "    _ax.grid()\n",
    "    _ax.set_xlabel('voltage [mV]')\n",
    "    _ax.set_ylabel('current [uA]')\n",
    "    _ax.set_xlim(initial_voltage - 0.3, final_voltage + 0.3)\n",
    "    _ax.legend(loc='upper left')\n",
    "    _ax.set_title('beam : {0} ({1})'.format(_beam, _backend))  \n",
    "    \n",
    "for _ax, _vol_hot, _cur_hot, _vol_cold, _cur_cold, _hot, _cold, _beam, _backend in zip(ax, vol_hot, cur_hot, \\\n",
    "                                                                                                                                                         vol_cold, cur_cold, \\\n",
    "                                                                                                                                                         power_hot, power_cold, beam, backend):\n",
    "    _ax.plot(_vol_cold, _cold, '.-', label='cold')\n",
    "    _ax.plot(_vol_hot, _hot, '.-', label='hot')\n",
    "    _ax.grid()\n",
    "    _ax.set_xlabel('voltage [mV]')\n",
    "    _ax.set_xlim(initial_voltage - 0.3, final_voltage + 0.3)\n",
    "    _ax.legend(loc='upper right')\n",
    "    \n",
    "ax[0].set_ylabel('power [dBm]')\n",
    "ax[1].set_ylabel('power [dBm]')\n",
    "ax[2].set_ylabel('count')\n",
    "\n",
    "fig.subplots_adjust(wspace=0.4, hspace=0.4)\n",
    "\n",
    "plt.savefig('./sisv_sweep_iv.png')\n",
    "\n",
    "plt.show()"
   ]
  },
  {
   "cell_type": "code",
   "execution_count": null,
   "metadata": {},
   "outputs": [],
   "source": [
    "Tcold = 77\n",
    "Thot = 300\n",
    "y = power_hot[:2] - power_cold[:2]\n",
    "y_xffts = 10 * numpy.log10(power_hot[2] / power_cold[2])\n",
    "HOT = 10 ** (power_hot / 10)\n",
    "COLD = 10 ** (power_cold / 10)\n",
    "Y = 10 ** (y / 10)\n",
    "Y_xffts = power_hot[2] / power_cold[2]\n",
    "Trx = (Tcold * Y - Thot) / (1 - Y)\n",
    "Trx_xffts = (Tcold * Y_xffts - Thot) / (1 - Y_xffts)"
   ]
  },
  {
   "cell_type": "code",
   "execution_count": null,
   "metadata": {},
   "outputs": [],
   "source": [
    "ncol = 3\n",
    "nrow = 1\n",
    "nax = ncol * nrow\n",
    "\n",
    "matplotlib.rcParams['savefig.dpi'] = 50\n",
    "matplotlib.rcParams['font.size'] = 20\n",
    "\n",
    "figsize = (ncol * 8, nrow * 8)\n",
    "\n",
    "fig = matplotlib.pyplot.figure(figsize=figsize)\n",
    "ax = [fig.add_subplot(nrow, ncol, i+1) for i in range(nax)]\n",
    "# ax1 = [_ax.twinx() for _ax in ax]\n",
    "\n",
    "for _ax, _ax1, _vol_hot, _cur_hot, _vol_cold, _cur_cold, _y, _beam in zip(ax, ax1, vol_hot, cur_hot, vol_cold, cur_cold, y, beam):\n",
    "    _ax.plot(_vol_hot, _y, '.-', color='green', label='Y-factor')\n",
    "#     _ax1.plot(_vol_hot, _cur_hot)\n",
    "    _ax.grid()\n",
    "    _ax.set_xlabel('voltage [mV]')\n",
    "    _ax.set_ylabel('Y-factor [dB]')\n",
    "    _ax.set_xlim(initial_voltage - 0.3, final_voltage + 0.3)\n",
    "    _ax.legend()\n",
    "    _ax.set_title('beam : {}'.format(_beam))\n",
    "\n",
    "ax[2].plot(vol_hot[2], y_xffts, '.-', color='green', label='Y-factor')\n",
    "ax[2].grid()\n",
    "ax[2].set_xlabel('voltage [mV]')\n",
    "ax[2].set_ylabel('Y-factor [dB]')\n",
    "ax[2].legend()\n",
    "ax[2].set_title('beam : {}'.format(beam[2]))\n",
    "\n",
    "plt.show()"
   ]
  },
  {
   "cell_type": "code",
   "execution_count": null,
   "metadata": {},
   "outputs": [],
   "source": [
    "# optimal\n",
    "\n",
    "idx_minTrx = [numpy.argmin(_Trx) for _Trx in Trx ]\n",
    "idx_minTrx_xffts = numpy.argmin(Trx_xffts)\n",
    "minTrx = [_Trx[_idx] for _Trx, _idx in zip(Trx, idx_minTrx)]\n",
    "minTrx_xffts = Trx_xffts[idx_minTrx_xffts]\n",
    "optimam_voltage = [_hot_vol[_idx] for _hot_vol, _idx in zip(vol_hot, idx_minTrx)]\n",
    "optimam_voltage_xffts = vol_hot[2][idx_minTrx_xffts]"
   ]
  },
  {
   "cell_type": "code",
   "execution_count": null,
   "metadata": {},
   "outputs": [],
   "source": [
    "ncol = 3\n",
    "nrow = 1\n",
    "nax = ncol * nrow\n",
    "\n",
    "matplotlib.rcParams['savefig.dpi'] = 200\n",
    "matplotlib.rcParams['font.size'] = 24\n",
    "\n",
    "figsize = (ncol * 10, nrow * 10)\n",
    "\n",
    "fig = matplotlib.pyplot.figure(figsize=figsize)\n",
    "ax = [fig.add_subplot(nrow, ncol, i+1) for i in range(nax)]\n",
    "# ax1 = [_ax.twinx() for _ax in ax]\n",
    "\n",
    "for _ax, _ax1, _vol_hot, _cur_hot, _vol_cold, _cur_cold, _Trx, _beam in zip(ax, ax1, vol_hot, cur_hot, vol_cold, cur_cold, Trx, beam):\n",
    "    _ax.plot(_vol_hot, _Trx, '.-', color='green', label='Trx')\n",
    "#     _ax1.plot(_vol_hot, _cur_hot)\n",
    "    _ax.grid()\n",
    "    _ax.set_xlabel('voltage [mV]')\n",
    "    _ax.set_ylabel('Trx [K]')\n",
    "    _ax.set_xlim(initial_voltage - 0.3, final_voltage + 0.3)\n",
    "    _ax.set_ylim(0, 200)    \n",
    "    _ax.legend()\n",
    "    _ax.set_title('beam : {}'.format(_beam))\n",
    "\n",
    "ax[2].plot(vol_hot[2], Trx_xffts, '.-', color='green', label='Trx')\n",
    "ax[2].grid()\n",
    "ax[2].set_xlabel('voltage [mV]')\n",
    "ax[2].set_ylabel('Trx [K]')\n",
    "ax[2].set_ylim(0, 250)\n",
    "ax[2].legend()\n",
    "ax[2].set_title('beam : {}'.format(beam[2]))\n",
    "\n",
    "[_ax.text(0.1, 0.2, 'optimamV = {0:.3f} mV\\n\\nTrx = {1:.3f} K'.format(_optV, mTrx), transform=_ax.transAxes) \n",
    " for _ax, _optV, mTrx in zip(ax, optimam_voltage, minTrx)]\n",
    "\n",
    "ax[2].text(0.1, 0.2, 'optimamV = {0:.3f} mV\\n\\nTrx = {1:.3f} K'\n",
    "           .format(optimam_voltage_xffts, minTrx_xffts), transform=ax[2].transAxes) \n",
    "\n",
    "[_ax.set_title('beam : {0} ({1})'.format(_beam, _backend))\n",
    " for _ax, _beam, _backend in zip(ax, beam, backend)]\n",
    "\n",
    "fig.subplots_adjust(wspace=0.4, hspace=0.4)\n",
    "\n",
    "plt.savefig('./sisv_sweep.png')\n",
    "\n",
    "plt.show()"
   ]
  }
 ],
 "metadata": {
  "kernelspec": {
   "display_name": "Python 3",
   "language": "python",
   "name": "python3"
  },
  "language_info": {
   "codemirror_mode": {
    "name": "ipython",
    "version": 3
   },
   "file_extension": ".py",
   "mimetype": "text/x-python",
   "name": "python",
   "nbconvert_exporter": "python",
   "pygments_lexer": "ipython3",
   "version": "3.6.1"
  }
 },
 "nbformat": 4,
 "nbformat_minor": 2
}
