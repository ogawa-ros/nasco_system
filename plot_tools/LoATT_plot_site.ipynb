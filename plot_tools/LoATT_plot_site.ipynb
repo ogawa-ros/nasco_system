{
 "cells": [
  {
   "cell_type": "code",
   "execution_count": 50,
   "metadata": {},
   "outputs": [],
   "source": [
    "import pandas\n",
    "import numpy\n",
    "from n2lite import n2lite\n",
    "import matplotlib.pyplot as plt\n",
    "import matplotlib\n",
    "import pickle\n",
    "%matplotlib inline\n",
    "\n",
    "figsize = (2*3, 2*3)"
   ]
  },
  {
   "cell_type": "code",
   "execution_count": 51,
   "metadata": {},
   "outputs": [],
   "source": [
    "# beam\n",
    "\n",
    "beam = ['2lu','2ll','2ru','2rl','3lu','3ll','3ru','3rl','4lu','4ll','4ru','4rl','5lu','5ll','5ru','5rl','1lu','1ll','1ru','1rl']\n",
    "\n",
    "power_list = []\n",
    "for i in range(1,17):\n",
    "    power_list.append('xffts_'+str(i))\n",
    "Yfac_list = []\n",
    "for i in range(1,17):\n",
    "    Yfac_list.append('Yfactor_'+str(i))"
   ]
  },
  {
   "cell_type": "code",
   "execution_count": 52,
   "metadata": {},
   "outputs": [],
   "source": [
    "path_HOT = './cold_param.db'\n",
    "path_COLD = './hot_param.db'"
   ]
  },
  {
   "cell_type": "code",
   "execution_count": 53,
   "metadata": {},
   "outputs": [],
   "source": [
    "# データの呼び出し\n",
    "D_HOT = n2lite.N2lite(path_HOT)\n",
    "D_COLD = n2lite.N2lite(path_COLD)\n",
    "\n",
    "d_HOT = D_HOT.read_pandas_all()\n",
    "d_COLD = D_COLD.read_pandas_all()"
   ]
  },
  {
   "cell_type": "code",
   "execution_count": 54,
   "metadata": {
    "scrolled": false
   },
   "outputs": [],
   "source": [
    "#　データ処理　\n",
    "\n",
    "d2_HOT_groupby = d_HOT.groupby('loatt_5l')\n",
    "d2_COLD_groupby = d_COLD.groupby('loatt_5l')\n",
    "loatt_HOT_mean =d2_HOT_groupby.mean()\n",
    "loatt_HOT_mean['time'] = loatt_HOT_mean['time'] - loatt_HOT_mean['time'][0]\n",
    "loatt_COLD_mean =d2_COLD_groupby.mean()\n",
    "loatt_COLD_mean['time'] = loatt_COLD_mean['time'] - loatt_COLD_mean['time'][0]"
   ]
  },
  {
   "cell_type": "code",
   "execution_count": null,
   "metadata": {},
   "outputs": [],
   "source": [
    "Y = []\n",
    "Trx = []\n",
    "\n",
    "for yfac , power in zip(Yfac_list , power_list):\n",
    "    loatt_HOT_mean[yfac] = loatt_HOT_mean[power]/loatt_COLD_mean[power]\n",
    "    Y.append(loatt_HOT_mean[yfac])\n",
    "for i in Y:\n",
    "    trx = (300-i*77)/(i-1)\n",
    "    Trx.apend(trx)"
   ]
  },
  {
   "cell_type": "code",
   "execution_count": 55,
   "metadata": {
    "scrolled": true
   },
   "outputs": [
    {
     "data": {
      "text/plain": [
       "<matplotlib.text.Text at 0x7f41ba735278>"
      ]
     },
     "execution_count": 55,
     "metadata": {},
     "output_type": "execute_result"
    },
    {
     "data": {
      "image/png": "[encoded data removed]",
      "text/plain": [
       "<matplotlib.figure.Figure at 0x7f41bab59828>"
      ]
     },
     "metadata": {
      "needs_background": "light"
     },
     "output_type": "display_data"
    }
   ],
   "source": [
    "# XFFTS_data_plot\n",
    "    \n",
    "ncol = 8\n",
    "nrow = 2\n",
    "nax = ncol * nrow\n",
    "\n",
    "figsize = (ncol * 8, nrow * 8)\n",
    "    \n",
    "fig = matplotlib.pyplot.figure(figsize=figsize)\n",
    "ax = [fig.add_subplot(nrow, ncol, i+1) for i in range(nax)]\n",
    "\n",
    "for _ax , _trx in zip(ax,Trx)\n",
    "    _ax.plot(_trx,label = 'Trx')\n",
    "    _ax.text(0.5,2,'loatt_current = {0:.3f} mA\\n\\nTrx = {1:.3f} K'.format(_trx.idxmin(), min(_trx)))\n",
    "    _ax.ylabel('Trx(K)')\n",
    "    _ax.xlabel('loatt_current(mA)')\n",
    "    _ax.ylim(0,200)\n",
    "    _ax.grid()\n",
    "    _ax.title('XFFTS:  ' +beam[1:17])"
   ]
  }
 ],
 "metadata": {
  "kernelspec": {
   "display_name": "Python 3",
   "language": "python",
   "name": "python3"
  },
  "language_info": {
   "codemirror_mode": {
    "name": "ipython",
    "version": 3
   },
   "file_extension": ".py",
   "mimetype": "text/x-python",
   "name": "python",
   "nbconvert_exporter": "python",
   "pygments_lexer": "ipython3",
   "version": "3.6.1"
  }
 },
 "nbformat": 4,
 "nbformat_minor": 2
}
