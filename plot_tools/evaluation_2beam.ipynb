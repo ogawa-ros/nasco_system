{
 "cells": [
  {
   "cell_type": "code",
   "execution_count": 3,
   "metadata": {},
   "outputs": [],
   "source": [
    "import numpy\n",
    "import matplotlib\n",
    "import matplotlib.pyplot as plt\n",
    "from n2lite import n2lite\n",
    "\n",
    "%matplotlib inline\n",
    "import matplotlib.pyplot\n",
    "matplotlib.rcParams['figure.facecolor'] = 'white'\n",
    "matplotlib.rcParams['savefig.dpi'] = 50\n",
    "matplotlib.rcParams['font.size'] = 24"
   ]
  },
  {
   "cell_type": "code",
   "execution_count": 4,
   "metadata": {},
   "outputs": [],
   "source": [
    "beam1 = '2l'\n",
    "beam2 = '2r'\n",
    "beam = [beam1, beam2]\n",
    "\n",
    "fn_hot = '20181113_103343'\n",
    "path_hot = '/home/amigos/data/sql/hot_monitor/' + fn_hot + '/param.db'"
   ]
  },
  {
   "cell_type": "code",
   "execution_count": null,
   "metadata": {},
   "outputs": [],
   "source": [
    "_hot = n2lite.N2lite(path_hot)\n",
    "hot = _hot.read_pandas_all()"
   ]
  },
  {
   "cell_type": "code",
   "execution_count": null,
   "metadata": {},
   "outputs": [],
   "source": [
    "ut = hot['time']\n",
    "power = numpy.array([hot['power_1'], hot['power_2']])"
   ]
  },
  {
   "cell_type": "code",
   "execution_count": null,
   "metadata": {},
   "outputs": [],
   "source": [
    "# calc allan\n",
    "\n",
    "dt = 1e-2 # 10 ms\n",
    "roop = int(len(power[0]) / 4)\n",
    "\n",
    "power0 = numpy.array(\n",
    "    [\n",
    "        power[idx]/power[idx][0] \n",
    "        for idx in range(len(power))\n",
    "    ]\n",
    ")\n",
    "time_allan =[\n",
    "    [\n",
    "        dt * i for i in range(roop)\n",
    "    ]\n",
    "    for _ in range(len(power0))\n",
    "]\n",
    "_allan = [\n",
    "    [\n",
    "        numpy.mean(numpy.split(_power0, numpy.arange(_roop, len(_power0), _roop))[:-1], axis=1)\n",
    "        for _roop in range(1, roop + 1)\n",
    "        ]\n",
    "    for _power0 in power0\n",
    "]\n",
    "allan = [\n",
    "    [\n",
    "        numpy.var(__allan) for __allan in _allan[idx]\n",
    "    ]\n",
    "    for idx in range(len(power0))\n",
    "]"
   ]
  },
  {
   "cell_type": "code",
   "execution_count": null,
   "metadata": {},
   "outputs": [],
   "source": [
    "white_noise = lambda x: numpy.array(x ** (-1 / 2))\n",
    "x = numpy.linspace(min(time_allan[0]), max(time_allan[0]), roop) "
   ]
  },
  {
   "cell_type": "code",
   "execution_count": 1,
   "metadata": {},
   "outputs": [
    {
     "ename": "NameError",
     "evalue": "name 'matplotlib' is not defined",
     "output_type": "error",
     "traceback": [
      "\u001b[0;31m---------------------------------------------------------\u001b[0m",
      "\u001b[0;31mNameError\u001b[0m               Traceback (most recent call last)",
      "\u001b[0;32m<ipython-input-1-4fd0753e77e7>\u001b[0m in \u001b[0;36m<module>\u001b[0;34m\u001b[0m\n\u001b[1;32m      5\u001b[0m \u001b[0mfigsize\u001b[0m \u001b[0;34m=\u001b[0m \u001b[0;34m(\u001b[0m\u001b[0mncol\u001b[0m \u001b[0;34m*\u001b[0m \u001b[0;36m8\u001b[0m\u001b[0;34m,\u001b[0m \u001b[0mnrow\u001b[0m \u001b[0;34m*\u001b[0m \u001b[0;36m8\u001b[0m\u001b[0;34m)\u001b[0m\u001b[0;34m\u001b[0m\u001b[0m\n\u001b[1;32m      6\u001b[0m \u001b[0;34m\u001b[0m\u001b[0m\n\u001b[0;32m----> 7\u001b[0;31m \u001b[0mfig\u001b[0m \u001b[0;34m=\u001b[0m \u001b[0mmatplotlib\u001b[0m\u001b[0;34m.\u001b[0m\u001b[0mpyplot\u001b[0m\u001b[0;34m.\u001b[0m\u001b[0mfigure\u001b[0m\u001b[0;34m(\u001b[0m\u001b[0mfigsize\u001b[0m\u001b[0;34m=\u001b[0m\u001b[0mfigsize\u001b[0m\u001b[0;34m)\u001b[0m\u001b[0;34m\u001b[0m\u001b[0m\n\u001b[0m\u001b[1;32m      8\u001b[0m \u001b[0max\u001b[0m \u001b[0;34m=\u001b[0m \u001b[0;34m[\u001b[0m\u001b[0mfig\u001b[0m\u001b[0;34m.\u001b[0m\u001b[0madd_subplot\u001b[0m\u001b[0;34m(\u001b[0m\u001b[0mnrow\u001b[0m\u001b[0;34m,\u001b[0m \u001b[0mncol\u001b[0m\u001b[0;34m,\u001b[0m \u001b[0mi\u001b[0m\u001b[0;34m+\u001b[0m\u001b[0;36m1\u001b[0m\u001b[0;34m)\u001b[0m \u001b[0;32mfor\u001b[0m \u001b[0mi\u001b[0m \u001b[0;32min\u001b[0m \u001b[0mrange\u001b[0m\u001b[0;34m(\u001b[0m\u001b[0mnax\u001b[0m\u001b[0;34m)\u001b[0m\u001b[0;34m]\u001b[0m\u001b[0;34m\u001b[0m\u001b[0m\n\u001b[1;32m      9\u001b[0m \u001b[0;34m\u001b[0m\u001b[0m\n",
      "\u001b[0;31mNameError\u001b[0m: name 'matplotlib' is not defined"
     ]
    }
   ],
   "source": [
    "ncol = 2\n",
    "nrow = 1\n",
    "nax = ncol * nrow\n",
    "\n",
    "figsize = (ncol * 8, nrow * 8)\n",
    "\n",
    "fig = matplotlib.pyplot.figure(figsize=figsize)\n",
    "ax = [fig.add_subplot(nrow, ncol, i+1) for i in range(nax)]\n",
    "\n",
    "for _ax, _time_allan, _d, _beam in zip(ax, time_allan, allan, beam):\n",
    "    _ax.loglog(_time_allan, _d, '.-')\n",
    "#     _ax.loglog(x, white_noise(x))\n",
    "    _ax.grid()\n",
    "    _ax.set_xlabel('Time (sec.)')\n",
    "    _ax.set_ylabel('Relative Allan Variance')\n",
    "    _ax.set_title('allan variance : {}'.format(_beam))\n",
    "\n",
    "fig.subplots_adjust(wspace=0.4, hspace=0.4)\n",
    "\n",
    "#     matplotlib.pyplot.savefig('./fig/{}.png'.format(path))\n",
    "\n",
    "matplotlib.pyplot.show()"
   ]
  },
  {
   "cell_type": "code",
   "execution_count": null,
   "metadata": {},
   "outputs": [],
   "source": []
  }
 ],
 "metadata": {
  "kernelspec": {
   "display_name": "Python 3",
   "language": "python",
   "name": "python3"
  },
  "language_info": {
   "codemirror_mode": {
    "name": "ipython",
    "version": 3
   },
   "file_extension": ".py",
   "mimetype": "text/x-python",
   "name": "python",
   "nbconvert_exporter": "python",
   "pygments_lexer": "ipython3",
   "version": "3.6.1"
  }
 },
 "nbformat": 4,
 "nbformat_minor": 2
}
