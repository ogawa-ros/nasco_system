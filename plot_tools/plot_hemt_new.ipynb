{
 "cells": [
  {
   "cell_type": "code",
   "execution_count": null,
   "metadata": {
    "collapsed": true
   },
   "outputs": [],
   "source": [
    "from mpl_toolkits.mplot3d import Axes3D\n",
    "import matplotlib.pyplot as plt\n",
    "import numpy as np\n",
    "\n",
    "%matplotlib inline\n",
    "import matplotlib.pyplot\n",
    "matplotlib.rcParams['figure.facecolor'] = 'white'"
   ]
  },
  {
   "cell_type": "code",
   "execution_count": null,
   "metadata": {
    "collapsed": true
   },
   "outputs": [],
   "source": [
    "path1 = ''    #-2~0 HOT\n",
    "path2 = ''   #-2~0 COLD\n",
    "path3 = ''    #0~2 HOT\n",
    "path4 = ''   #0~2 COLD"
   ]
  },
  {
   "cell_type": "code",
   "execution_count": null,
   "metadata": {
    "collapsed": true
   },
   "outputs": [],
   "source": [
    "hemt_list = ['2l', '2r', '3l', '3r','4l', '4r', '5l', '5r', '1lu', '1ll', '1ru', '1rl']\n",
    "hemt = ''\n",
    "list_item = [path1, path2, path3, path4]"
   ]
  },
  {
   "cell_type": "code",
   "execution_count": null,
   "metadata": {
    "collapsed": true
   },
   "outputs": [],
   "source": [
    "for i in range(len(list_item)):\n",
    "    list = list_item[i]\n",
    "    'hemt_vg1_{0} = numpy.loadtxt(path{1} + '/hemt_vg1.txt')'.format(list, i)\n",
    "    'hemt_vg2_{0} = numpy.loadtxt(path{1} + '/hemt_vg2.txt')'.format(list, i)\n",
    "    'xffts_power_{0} = numpy.loadtxt(path{1} + '/XFFTS_PM1.txt')'.format(list, i)\n"
   ]
  },
  {
   "cell_type": "code",
   "execution_count": null,
   "metadata": {
    "collapsed": true
   },
   "outputs": [],
   "source": [
    "for i in range(len(list_item)):\n",
    "    list = list_item[i]\n",
    "    'vg1_{} = hemt_vg1_{}[:, hemt_list.index(hemt)]'.format(list)\n",
    "    'vg2_{} = hemt_vg2_{}[:, hemt_list.index(hemt)]'.format(list)\n",
    "    "
   ]
  },
  {
   "cell_type": "code",
   "execution_count": null,
   "metadata": {
    "collapsed": true
   },
   "outputs": [],
   "source": [
    "# VG1 -2~0V\n",
    "Y_factor = xffts_power_path1/xffts_power_path2\n",
    "Trx = (300 - Y_factor*77)/(Y_factor-1)\n",
    "\n",
    "X, Y, Z= np.meshgrid(vg1_path1 , vg2_path1 , Trx)\n",
    "#_X, _Y, _Z = np.meshgrid(vg1_path2 , vg2_path2 , )\n",
    "\n",
    "fig = plt.figure()\n",
    "ax = Axes3D(fig)\n",
    "ax.set_xlabel(\"vg1\")\n",
    "ax.set_ylabel(\"vg2\")\n",
    "ax.set_zlabel(\"Trx\")\n",
    "\n",
    "ax.plot_wireframe(X, Y, Z)\n",
    "plt.show()"
   ]
  },
  {
   "cell_type": "code",
   "execution_count": null,
   "metadata": {
    "collapsed": true
   },
   "outputs": [],
   "source": [
    "# VG1 0~2V\n",
    "_Y_factor = xffts_power_path3/xffts_power_path4\n",
    "_Trx = (300 - _Y_factor*77)/(_Y_factor-1)\n",
    "\n",
    "_X, _Y, _Z= np.meshgrid(vg1_path3 , vg2_path3 , _Trx)\n",
    "#_X, _Y, _Z = np.meshgrid(vg1_path4 , vg2_path4 , xffts_power_path4)\n",
    "\n",
    "fig = plt.figure()\n",
    "ax = Axes3D(fig)\n",
    "ax.set_xlabel(\"vg1\")\n",
    "ax.set_ylabel(\"vg2\")\n",
    "ax.set_zlabel(\"Trx\")\n",
    "\n",
    "ax.plot_wireframe(_X, _Y, _Z)\n",
    "plt.show()"
   ]
  },
  {
   "cell_type": "code",
   "execution_count": null,
   "metadata": {
    "collapsed": true
   },
   "outputs": [],
   "source": [
    "index_min = numpy.argmin(Trx)\n",
    "\n",
    "vg1_min = vg1_path1[index_min]\n",
    "vg2_min = vg2_path1[index_min]\n",
    "Trx_min = Trx[index_min]\n",
    "print(\"vg1 : \", vg1_min, \"         vg2 : \", vg2_min, \"  [V]\")\n",
    "print(\"power : \", power_max \"      vg1 : \",-2~0\")\n",
    "index_max"
   ]
  },
  {
   "cell_type": "code",
   "execution_count": null,
   "metadata": {
    "collapsed": true
   },
   "outputs": [],
   "source": [
    "index_min = numpy.argmin(_Trx)\n",
    "\n",
    "vg1_min = vg1_path3[index_min]\n",
    "vg2_min = vg2_path3[index_min]\n",
    "Trx_min = _Trx[index_min]\n",
    "print(\"vg1 : \", vg1_min, \"         vg2 : \", vg2_min, \"  [V]\")\n",
    "print(\"power : \", power_max \"      vg1 : \",0~2\")\n",
    "index_max"
   ]
  },
  {
   "cell_type": "code",
   "execution_count": null,
   "metadata": {
    "collapsed": true
   },
   "outputs": [],
   "source": []
  }
 ],
 "metadata": {
  "kernelspec": {
   "display_name": "Python 3",
   "language": "python",
   "name": "python3"
  },
  "language_info": {
   "codemirror_mode": {
    "name": "ipython",
    "version": 3
   },
   "file_extension": ".py",
   "mimetype": "text/x-python",
   "name": "python",
   "nbconvert_exporter": "python",
   "pygments_lexer": "ipython3",
   "version": "3.6.1"
  }
 },
 "nbformat": 4,
 "nbformat_minor": 2
}
