{
 "cells": [
  {
   "cell_type": "markdown",
   "metadata": {},
   "source": [
    "## yfactor_necstdb.py 用可視化ツールの template です。\n",
    "- 概要：\n",
    "  - 全 cell を実行すると、12 素子 の IV カーブ plot が表示されます\n",
    "    - 100 GHz 帯 ( SSB ) 素子 : 8 個\n",
    "    - 200 GHz 帯 ( 2SB ) 素子 : 4 個"
   ]
  },
  {
   "cell_type": "markdown",
   "metadata": {},
   "source": [
    "### モジュールを import します。"
   ]
  },
  {
   "cell_type": "code",
   "execution_count": 2,
   "metadata": {},
   "outputs": [],
   "source": [
    "import os\n",
    "import sys\n",
    "import time\n",
    "import numpy as np\n",
    "import pandas as pd\n",
    "import matplotlib\n",
    "\n",
    "import warnings\n",
    "warnings.filterwarnings('ignore')\n",
    "if sys.argv[1] == 'xxx': pass\n",
    "else: \n",
    "    %matplotlib inline\n",
    "\n",
    "matplotlib.use('Agg')\n",
    "matplotlib.rcParams['font.size'] = 12\n",
    "matplotlib.rcParams['figure.facecolor'] = 'white'\n",
    "import matplotlib.pyplot as plt\n",
    "\n",
    "import necstdb"
   ]
  },
  {
   "cell_type": "markdown",
   "metadata": {},
   "source": [
    "### database を読み込みます。"
   ]
  },
  {
   "cell_type": "code",
   "execution_count": 3,
   "metadata": {},
   "outputs": [],
   "source": [
    "cwd = os.getcwd()\n",
    "mode, date = cwd.split('/')[-2], cwd.split('/')[-1]\n",
    "\n",
    "data_path = '/media/usbdisk/data/{mode}/{date}.necstdb/'.format(**locals())\n",
    "\n",
    "db = necstdb.opendb(data_path)"
   ]
  },
  {
   "cell_type": "markdown",
   "metadata": {},
   "source": [
    "### beam ごとに、パラメーターをディクショナリに格納します。\n",
    "- パラメーター\n",
    "  - SIS Voltage ( mV )\n",
    "  - SIS Current ( uA )"
   ]
  },
  {
   "cell_type": "code",
   "execution_count": 4,
   "metadata": {},
   "outputs": [],
   "source": [
    "beam_list = [\n",
    "    '2l', '2r', '3l', '3r',\n",
    "    '4l', '4r', '5l', '5r', \n",
    "    '1lu', '1ll', '1ru', '1rl'\n",
    "]\n",
    "vol_topic_list = ['sis_vol_{}'.format(vol) for vol in beam_list]\n",
    "cur_topic_list = ['sis_cur_{}'.format(cur) for cur in beam_list]"
   ]
  },
  {
   "cell_type": "code",
   "execution_count": 6,
   "metadata": {
    "scrolled": true
   },
   "outputs": [],
   "source": [
    "vol_df, cur_df = {}, {}\n",
    "for vol_topic, cur_topic in zip(vol_topic_list, cur_topic_list):\n",
    "    vol_df[vol_topic] = db.open_table(vol_topic).read(astype='pandas')\n",
    "    vol_df[vol_topic]['timestamp'] = pd.to_datetime(vol_df[vol_topic]['timestamp'], unit='s')\n",
    "    vol_df[vol_topic] = vol_df[vol_topic].set_index('timestamp').sort_index()    \n",
    "    cur_df[cur_topic] = db.open_table(cur_topic).read(astype='pandas')\n",
    "    cur_df[cur_topic]['timestamp'] = pd.to_datetime(cur_df[cur_topic]['timestamp'], unit='s')\n",
    "    cur_df[cur_topic] = cur_df[cur_topic].set_index('timestamp').sort_index() "
   ]
  },
  {
   "cell_type": "code",
   "execution_count": 7,
   "metadata": {
    "scrolled": true
   },
   "outputs": [
    {
     "ename": "KeyError",
     "evalue": "'sis_vol_2l'",
     "output_type": "error",
     "traceback": [
      "\u001b[0;31m---------------------------------------------------------------------------\u001b[0m",
      "\u001b[0;31mKeyError\u001b[0m                                  Traceback (most recent call last)",
      "\u001b[0;32m<ipython-input-7-9302956b5658>\u001b[0m in \u001b[0;36m<module>\u001b[0;34m()\u001b[0m\n\u001b[1;32m      4\u001b[0m      dataset[beam] = pd.concat(\n\u001b[1;32m      5\u001b[0m          [\n\u001b[0;32m----> 6\u001b[0;31m              \u001b[0mvol_df\u001b[0m\u001b[0;34m[\u001b[0m\u001b[0;34m'sis_vol_{}'\u001b[0m\u001b[0;34m.\u001b[0m\u001b[0mformat\u001b[0m\u001b[0;34m(\u001b[0m\u001b[0mbeam\u001b[0m\u001b[0;34m)\u001b[0m\u001b[0;34m]\u001b[0m\u001b[0;34m.\u001b[0m\u001b[0mrename\u001b[0m\u001b[0;34m(\u001b[0m\u001b[0mcolumns\u001b[0m\u001b[0;34m=\u001b[0m\u001b[0;34m{\u001b[0m\u001b[0;34m'data'\u001b[0m\u001b[0;34m:\u001b[0m \u001b[0;34m'sis_vol_{}'\u001b[0m\u001b[0;34m.\u001b[0m\u001b[0mformat\u001b[0m\u001b[0;34m(\u001b[0m\u001b[0mbeam\u001b[0m\u001b[0;34m)\u001b[0m\u001b[0;34m}\u001b[0m\u001b[0;34m)\u001b[0m\u001b[0;31m \u001b[0m\u001b[0;31m\\\u001b[0m\u001b[0;34m\u001b[0m\u001b[0m\n\u001b[0m\u001b[1;32m      7\u001b[0m              \u001b[0;34m.\u001b[0m\u001b[0mastype\u001b[0m\u001b[0;34m(\u001b[0m\u001b[0mfloat\u001b[0m\u001b[0;34m)\u001b[0m\u001b[0;34m.\u001b[0m\u001b[0mresample\u001b[0m\u001b[0;34m(\u001b[0m\u001b[0mresample_time\u001b[0m\u001b[0;34m)\u001b[0m\u001b[0;34m.\u001b[0m\u001b[0mmean\u001b[0m\u001b[0;34m(\u001b[0m\u001b[0;34m)\u001b[0m\u001b[0;34m.\u001b[0m\u001b[0mround\u001b[0m\u001b[0;34m(\u001b[0m\u001b[0;34m{\u001b[0m\u001b[0;34m'sis_vol_{}'\u001b[0m\u001b[0;34m.\u001b[0m\u001b[0mformat\u001b[0m\u001b[0;34m(\u001b[0m\u001b[0mbeam\u001b[0m\u001b[0;34m)\u001b[0m\u001b[0;34m:\u001b[0m \u001b[0;36m2\u001b[0m\u001b[0;34m}\u001b[0m\u001b[0;34m)\u001b[0m\u001b[0;34m,\u001b[0m\u001b[0;34m\u001b[0m\u001b[0m\n\u001b[1;32m      8\u001b[0m              \u001b[0mcur_df\u001b[0m\u001b[0;34m[\u001b[0m\u001b[0;34m'sis_cur_{}'\u001b[0m\u001b[0;34m.\u001b[0m\u001b[0mformat\u001b[0m\u001b[0;34m(\u001b[0m\u001b[0mbeam\u001b[0m\u001b[0;34m)\u001b[0m\u001b[0;34m]\u001b[0m\u001b[0;34m.\u001b[0m\u001b[0mrename\u001b[0m\u001b[0;34m(\u001b[0m\u001b[0mcolumns\u001b[0m\u001b[0;34m=\u001b[0m\u001b[0;34m{\u001b[0m\u001b[0;34m'data'\u001b[0m\u001b[0;34m:\u001b[0m \u001b[0;34m'sis_cur_{}'\u001b[0m\u001b[0;34m.\u001b[0m\u001b[0mformat\u001b[0m\u001b[0;34m(\u001b[0m\u001b[0mbeam\u001b[0m\u001b[0;34m)\u001b[0m\u001b[0;34m}\u001b[0m\u001b[0;34m)\u001b[0m\u001b[0;31m \u001b[0m\u001b[0;31m\\\u001b[0m\u001b[0;34m\u001b[0m\u001b[0m\n",
      "\u001b[0;31mKeyError\u001b[0m: 'sis_vol_2l'"
     ]
    }
   ],
   "source": [
    "dataset = {}\n",
    "resample_time = '0.04S'\n",
    "for beam in beam_list:\n",
    "     dataset[beam] = pd.concat(\n",
    "         [\n",
    "             vol_df['sis_vol_{}'.format(beam)].rename(columns={'data': 'sis_vol_{}'.format(beam)}) \\\n",
    "             .astype(float).resample(resample_time).mean().round({'sis_vol_{}'.format(beam): 2}),\n",
    "             cur_df['sis_cur_{}'.format(beam)].rename(columns={'data': 'sis_cur_{}'.format(beam)}) \\\n",
    "             .astype(float).resample(resample_time).mean(),\n",
    "             ],\n",
    "         axis=1\n",
    "         ).set_index('sis_vol_{}'.format(beam)).groupby(level=0).mean()"
   ]
  },
  {
   "cell_type": "markdown",
   "metadata": {},
   "source": [
    "### IV カーブ を plot します。"
   ]
  },
  {
   "cell_type": "code",
   "execution_count": 1,
   "metadata": {},
   "outputs": [
    {
     "ename": "NameError",
     "evalue": "name 'matplotlib' is not defined",
     "output_type": "error",
     "traceback": [
      "\u001b[0;31m---------------------------------------------------------------------------\u001b[0m",
      "\u001b[0;31mNameError\u001b[0m                                 Traceback (most recent call last)",
      "\u001b[0;32m<ipython-input-1-0af5893e8e4a>\u001b[0m in \u001b[0;36m<module>\u001b[0;34m()\u001b[0m\n\u001b[1;32m      5\u001b[0m \u001b[0mfigsize\u001b[0m \u001b[0;34m=\u001b[0m \u001b[0;34m(\u001b[0m\u001b[0mncol\u001b[0m \u001b[0;34m*\u001b[0m \u001b[0;36m4\u001b[0m\u001b[0;34m,\u001b[0m \u001b[0mnrow\u001b[0m \u001b[0;34m*\u001b[0m \u001b[0;36m3.5\u001b[0m\u001b[0;34m)\u001b[0m\u001b[0;34m\u001b[0m\u001b[0m\n\u001b[1;32m      6\u001b[0m \u001b[0;34m\u001b[0m\u001b[0m\n\u001b[0;32m----> 7\u001b[0;31m \u001b[0mfig\u001b[0m \u001b[0;34m=\u001b[0m \u001b[0mmatplotlib\u001b[0m\u001b[0;34m.\u001b[0m\u001b[0mpyplot\u001b[0m\u001b[0;34m.\u001b[0m\u001b[0mfigure\u001b[0m\u001b[0;34m(\u001b[0m\u001b[0mfigsize\u001b[0m\u001b[0;34m=\u001b[0m\u001b[0mfigsize\u001b[0m\u001b[0;34m)\u001b[0m\u001b[0;34m\u001b[0m\u001b[0m\n\u001b[0m\u001b[1;32m      8\u001b[0m \u001b[0max\u001b[0m \u001b[0;34m=\u001b[0m \u001b[0;34m[\u001b[0m\u001b[0mfig\u001b[0m\u001b[0;34m.\u001b[0m\u001b[0madd_subplot\u001b[0m\u001b[0;34m(\u001b[0m\u001b[0mnrow\u001b[0m\u001b[0;34m,\u001b[0m \u001b[0mncol\u001b[0m\u001b[0;34m,\u001b[0m \u001b[0mi\u001b[0m\u001b[0;34m+\u001b[0m\u001b[0;36m1\u001b[0m\u001b[0;34m)\u001b[0m \u001b[0;32mfor\u001b[0m \u001b[0mi\u001b[0m \u001b[0;32min\u001b[0m \u001b[0mrange\u001b[0m\u001b[0;34m(\u001b[0m\u001b[0mnax\u001b[0m\u001b[0;34m)\u001b[0m\u001b[0;34m]\u001b[0m\u001b[0;34m\u001b[0m\u001b[0m\n\u001b[1;32m      9\u001b[0m \u001b[0;34m\u001b[0m\u001b[0m\n",
      "\u001b[0;31mNameError\u001b[0m: name 'matplotlib' is not defined"
     ]
    }
   ],
   "source": [
    "ncol = 4\n",
    "nrow = 3\n",
    "nax = ncol * nrow\n",
    "\n",
    "figsize = (ncol * 4, nrow * 3.5)\n",
    "\n",
    "fig = matplotlib.pyplot.figure(figsize=figsize)\n",
    "ax = [fig.add_subplot(nrow, ncol, i+1) for i in range(nax)]\n",
    "\n",
    "for _ax, key, data in zip(ax, dataset.keys(), dataset.values()):\n",
    "    _ax.plot(data['sis_cur_{}'.format(key)], '.', markersize=1, label='sis_cur')\n",
    "    _ax.set_xlabel('Voltage ( mV )')\n",
    "    _ax.set_ylabel('Current ( uA )')\n",
    "    _ax.set_title(key)\n",
    "    _ax.grid()\n",
    "    _ax.legend()    \n",
    "    \n",
    "plt.suptitle('{date} : {mode}'.format(**locals()), fontsize=18)\n",
    "plt.subplots_adjust(wspace=0.25, hspace=0.25, bottom=0.05)\n",
    "plt.tight_layout()\n",
    "plt.subplots_adjust(top=0.935)\n",
    "\n",
    "figname = '{date}_{mode}'.format(**locals())\n",
    "plt.savefig('./{}.png'.format(figname))\n",
    "print('info : Saved image. ( {}.png )'.format(figname))"
   ]
  },
  {
   "cell_type": "code",
   "execution_count": null,
   "metadata": {},
   "outputs": [],
   "source": []
  }
 ],
 "metadata": {
  "kernelspec": {
   "display_name": "Python 3",
   "language": "python",
   "name": "python3"
  },
  "language_info": {
   "codemirror_mode": {
    "name": "ipython",
    "version": 3
   },
   "file_extension": ".py",
   "mimetype": "text/x-python",
   "name": "python",
   "nbconvert_exporter": "python",
   "pygments_lexer": "ipython3",
   "version": "3.6.5"
  }
 },
 "nbformat": 4,
 "nbformat_minor": 2
}
