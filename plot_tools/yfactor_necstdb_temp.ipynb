{
 "cells": [
  {
   "cell_type": "markdown",
   "metadata": {},
   "source": [
    "## yfactor_necstdb.py 用可視化ツールの template です。\n",
    "- 概要：\n",
    "  - 全 cell を実行すると、20 IF の hot / cold の oneshot と y-factor が表示されます\n",
    "- 特筆事項：\n",
    "  - 20 IF 分のデータが存在しなくても、存在する IF データのみで plot 可能です\n",
    "-  <font color=\"red\">notebook 上で plot を行いたい場合：　</font>\n",
    "  - 上から順番に実行していただければ、plot が表示されます\n",
    "  - 画像を保存したくない場合は、「plt.savefig」 をコメントアウトしてください"
   ]
  },
  {
   "cell_type": "markdown",
   "metadata": {},
   "source": [
    "### モジュールを import します。"
   ]
  },
  {
   "cell_type": "code",
   "execution_count": 53,
   "metadata": {
    "collapsed": true
   },
   "outputs": [],
   "source": [
    "import os\n",
    "import sys\n",
    "import time\n",
    "from tqdm import tqdm\n",
    "import numpy as np\n",
    "import pandas as pd\n",
    "import matplotlib\n",
    "matplotlib.use('Agg')\n",
    "matplotlib.rcParams['font.size'] = 12\n",
    "matplotlib.rcParams['figure.facecolor'] = 'white'\n",
    "import matplotlib.pyplot as plt\n",
    "\n",
    "import warnings\n",
    "warnings.filterwarnings('ignore')\n",
    "if sys.argv[1] == 'xxx': pass\n",
    "else: \n",
    "    %matplotlib inline\n",
    "\n",
    "import necstdb"
   ]
  },
  {
   "cell_type": "markdown",
   "metadata": {},
   "source": [
    "### database を読み込みます。"
   ]
  },
  {
   "cell_type": "code",
   "execution_count": 54,
   "metadata": {
    "collapsed": true
   },
   "outputs": [],
   "source": [
    "cwd = os.getcwd()\n",
    "mode, date = cwd.split('/')[-2], cwd.split('/')[-1]\n",
    "\n",
    "date = '20190908_115337'\n",
    "\n",
    "data_path_hot = '/home/amigos/data/rx/{mode}/hot/{date}.necstdb/'.format(**locals())\n",
    "data_path_cold = '/home/amigos/data/rx/{mode}/cold/{date}.necstdb/'.format(**locals())\n",
    "\n",
    "# data_path = [\n",
    "#     '/mnt/media/usbdisk/data/rx/{mode}/hot/{date}'.format(**locals()),\n",
    "#     '/mnt/media/usbdisk/data/rx/{mode}/cold/{date}'.format(**locals())\n",
    "# ]\n",
    "\n",
    "db_hot = necstdb.opendb(data_path_hot)\n",
    "db_cold = necstdb.opendb(data_path_cold)"
   ]
  },
  {
   "cell_type": "markdown",
   "metadata": {},
   "source": [
    "### hot, cold, y-factor, Trx を計算します。"
   ]
  },
  {
   "cell_type": "code",
   "execution_count": 59,
   "metadata": {},
   "outputs": [
    {
     "name": "stderr",
     "output_type": "stream",
     "text": [
      "[ALART] : 1r_l DB is not exist.: 100%|██████████| 20/20 [00:00<00:00, 590.60it/s]\n"
     ]
    }
   ],
   "source": [
    "IF_list = tqdm([\n",
    "    '2l_u', '2l_l', '2r_u', '2r_l',\n",
    "    '3l_u', '3l_l', '3r_u', '3r_l',\n",
    "    '4l_u', '4l_l', '4r_u', '4r_l',\n",
    "    '5l_u', '5l_l', '5r_u', '5r_l',\n",
    "    '1l_u', '1l_l', '1r_u', '1r_l',    \n",
    "])\n",
    "d_hot, d_cold = {}, {}\n",
    "for IF in IF_list:\n",
    "    IF_spec_name = 'xffts_spec_{}'.format(IF)\n",
    "    try:\n",
    "        d_hot[IF_spec_name] = np.array(db_hot.open_table(IF).read())\n",
    "        d_cold[IF_spec_name] = np.array(db_cold.open_table(IF_spec_name).read())\n",
    "        IF_list.set_description('[INFO] : {} DB is loaded.'.format(IF_spec_name))\n",
    "    except:\n",
    "        d_hot[IF_spec_name] = np.zeros((2, 2 ** 15 + 1)) # shape = (2, 32769)\n",
    "        d_cold[IF_spec_name] = np.zeros((2, 2 ** 15 + 1))\n",
    "        IF_list.set_description('[ALART] : {} DB is not exist.'.format(IF))"
   ]
  },
  {
   "cell_type": "code",
   "execution_count": 56,
   "metadata": {
    "collapsed": true
   },
   "outputs": [],
   "source": [
    "hot, cold = {}, {}\n",
    "try:\n",
    "    for key, val_hot, val_cold in zip(d_hot.keys(), d_hot.values(), d_cold.values()):\n",
    "        hot[key]= np.delete(np.average(val_hot, axis=0), 0)\n",
    "        cold[key]= np.delete(np.average(val_cold, axis=0), 0)\n",
    "except: pass        \n",
    "# memory freeing    \n",
    "del(d_hot)\n",
    "del(d_cold)"
   ]
  },
  {
   "cell_type": "code",
   "execution_count": 57,
   "metadata": {
    "collapsed": true
   },
   "outputs": [],
   "source": [
    "freq = np.linspace(0, 2000, 2**15) / 1e3\n",
    "Thot, Tcold = 300., 77.\n",
    "yfac, Trx = {}, {}\n",
    "for key, val_hot, val_cold in zip(hot.keys(), hot.values(), cold.values()):\n",
    "    yfac[key] = val_hot / val_cold \n",
    "    Trx[key] = (Thot - Tcold) * (val_hot / val_cold) / ((val_hot / val_cold) - 1)"
   ]
  },
  {
   "cell_type": "markdown",
   "metadata": {},
   "source": [
    "### yfactor を plot します。"
   ]
  },
  {
   "cell_type": "code",
   "execution_count": null,
   "metadata": {},
   "outputs": [
    {
     "name": "stderr",
     "output_type": "stream",
     "text": [
      "[INFO] : 1r_l data is plotted: 100%|██████████| 20/20 [00:01<00:00, 16.27it/s]\n"
     ]
    }
   ],
   "source": [
    "ncol = 5\n",
    "nrow = 4\n",
    "nax = ncol * nrow\n",
    "\n",
    "figsize = (ncol * 4.0, nrow * 3.5)\n",
    "\n",
    "matplotlib.rcParams['font.size'] = 12\n",
    "\n",
    "fig = matplotlib.pyplot.figure(figsize=figsize)\n",
    "ax = tqdm([fig.add_subplot(nrow, ncol, i+1) for i in range(nax)])\n",
    "\n",
    "for _ax, beam, _hot, _cold, _yfac in zip(ax, hot.keys(), hot.values(), cold.values(), yfac.values()):\n",
    "    ax.set_description('[INFO] : {} data is plotted'.format(beam.replace('xffts_spec_', '')))\n",
    "    _ax_ = _ax.twinx()\n",
    "    \n",
    "    _ax.plot(freq, _cold, label='cold')\n",
    "    _ax.plot(freq, _hot, label='hot')\n",
    "    _ax.set_xlabel('frequency ( GHz )')\n",
    "    _ax.set_yscale('log')\n",
    "    _ax.set_ylabel('count')\n",
    "    _ax.set_title(beam)\n",
    "    _ax.grid()\n",
    "    \n",
    "    _ax_.plot(freq, _yfac, label='yfactor', c='g')\n",
    "    _ax_.set_ylabel('Y-factor ( dB ) ')\n",
    "    _ave_yfac = np.average(_yfac)\n",
    "    _ax_.text(0.1, 0.1, 'Y-factor : \\n     {:.2f} dB'.format(_ave_yfac), \n",
    "              color='darkolivegreen', fontweight='bold', transform=_ax.transAxes)\n",
    "    \n",
    "    h1, l1 = _ax.get_legend_handles_labels()\n",
    "    h2, l2 = _ax_.get_legend_handles_labels()\n",
    "    _ax_.legend(h1 + h2, l1 + l2, loc='lower right', fontsize=10)\n",
    "    \n",
    "plt.suptitle('{date} : {mode}'.format(**locals()), fontsize=20)\n",
    "plt.subplots_adjust(wspace=0.2, hspace=0.25, bottom=0.05)\n",
    "plt.tight_layout()\n",
    "plt.subplots_adjust(top=0.935)\n",
    "\n",
    "plt.savefig('./yfactor.png')\n",
    "print('[INFO] : Saved image. ( yfactor.png )')"
   ]
  },
  {
   "cell_type": "code",
   "execution_count": null,
   "metadata": {
    "collapsed": true
   },
   "outputs": [],
   "source": []
  }
 ],
 "metadata": {
  "kernelspec": {
   "display_name": "Python 3",
   "language": "python",
   "name": "python3"
  },
  "language_info": {
   "codemirror_mode": {
    "name": "ipython",
    "version": 3
   },
   "file_extension": ".py",
   "mimetype": "text/x-python",
   "name": "python",
   "nbconvert_exporter": "python",
   "pygments_lexer": "ipython3",
   "version": "3.6.1"
  }
 },
 "nbformat": 4,
 "nbformat_minor": 2
}
