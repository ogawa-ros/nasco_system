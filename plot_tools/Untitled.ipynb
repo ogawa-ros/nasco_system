{
 "cells": [
  {
   "cell_type": "code",
   "execution_count": null,
   "metadata": {},
   "outputs": [],
   "source": [
    "import numpy\n",
    "import matplotlib\n",
    "\n",
    "%matplotlib inline\n",
    "import matplotlib.pyplot\n",
    "matplotlib.rcParams['figure.facecolor'] = 'white'"
   ]
  },
  {
   "cell_type": "code",
   "execution_count": null,
   "metadata": {},
   "outputs": [],
   "source": [
    "path_HOT = ''\n",
    "path_COLD = ''"
   ]
  },
  {
   "cell_type": "code",
   "execution_count": null,
   "metadata": {},
   "outputs": [],
   "source": [
    "#HOT\n",
    "sis_vol_file_HOT = numpy.loadtxt('path_HOT + /sis_vol.txt')\n",
    "sis_cur_file_HOT = numpy.loadtxt('path_HOT + /sis/cur.txt')\n",
    "#COLD\n",
    "sis_vol_file_COLD = numpy.loadtxt('path_COLD + /sis_vol.txt')\n",
    "sis_cur_file_COLD = numpy.loadtxt('path_COLD + /sis_cur.txt')"
   ]
  },
  {
   "cell_type": "code",
   "execution_count": null,
   "metadata": {},
   "outputs": [],
   "source": [
    "beam_list = ['2l', '2r', '3l', '3r',\n",
    "                       '4l', '4r', '5l', '5r', \n",
    "                       '1lu', '1ll', '1ru', '1rl']\n",
    "beam = ''\n",
    "\n",
    "sis_vol_HOT = sis_vol_file_HOT[:,beam_list.index(beam)]\n",
    "sis_cur_HOT = sis_cur_file_HOT[:,beam_list.index(beam)]\n",
    "xffts_power_HOT = numpy.loadtxt(path_HOT + '/XFFTS_PM1.txt')\n",
    "xffts_power_COLD = numpy.loadtxt(path_COLD + '/XFFTS_PM1.txt')"
   ]
  },
  {
   "cell_type": "code",
   "execution_count": null,
   "metadata": {},
   "outputs": [],
   "source": [
    "Y_factor = xffts_power_HOT/xffts_power_COLD\n",
    "\n",
    "Trx = (300-77*Y_factor)/(Y_factor-1)"
   ]
  },
  {
   "cell_type": "code",
   "execution_count": null,
   "metadata": {},
   "outputs": [],
   "source": [
    "fig, ax1 = plt.subplot\n",
    "ax1.plot(sis_vol_HOT , Trx)\n",
    "ax2 = ax1.twinx()\n",
    "ax2.plot(sis_vol_Hot , sis_cur_HOT)\n"
   ]
  },
  {
   "cell_type": "code",
   "execution_count": null,
   "metadata": {},
   "outputs": [],
   "source": []
  },
  {
   "cell_type": "code",
   "execution_count": null,
   "metadata": {},
   "outputs": [],
   "source": []
  },
  {
   "cell_type": "code",
   "execution_count": null,
   "metadata": {},
   "outputs": [],
   "source": []
  },
  {
   "cell_type": "code",
   "execution_count": null,
   "metadata": {},
   "outputs": [],
   "source": []
  },
  {
   "cell_type": "code",
   "execution_count": null,
   "metadata": {},
   "outputs": [],
   "source": []
  }
 ],
 "metadata": {
  "kernelspec": {
   "display_name": "Python 3",
   "language": "python",
   "name": "python3"
  },
  "language_info": {
   "codemirror_mode": {
    "name": "ipython",
    "version": 3
   },
   "file_extension": ".py",
   "mimetype": "text/x-python",
   "name": "python",
   "nbconvert_exporter": "python",
   "pygments_lexer": "ipython3",
   "version": "3.6.1"
  }
 },
 "nbformat": 4,
 "nbformat_minor": 2
}
