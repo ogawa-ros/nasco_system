{
 "cells": [
  {
   "cell_type": "code",
   "execution_count": 2,
   "metadata": {},
   "outputs": [],
   "source": [
    "import numpy\n",
    "import matplotlib\n",
    "\n",
    "%matplotlib inline\n",
    "import matplotlib.pyplot\n",
    "matplotlib.rcParams['figure.facecolor'] = 'white'\n",
    "matplotlib.rcParams['savefig.dpi'] = 50\n",
    "matplotlib.rcParams['font.size'] = 18"
   ]
  },
  {
   "cell_type": "code",
   "execution_count": null,
   "metadata": {},
   "outputs": [],
   "source": [
    "datatime = numpy.loadtxt('./datatime.txt')\n",
    "power = numpy.loadtxt('./power.txt')\n",
    "\n",
    "ut = datatime\n",
    "pass_time = (ut - ut[0]) / 60 # min.\n",
    "hot = power[:, 0]\n",
    "\n",
    "ncol = 2\n",
    "nrow = 1\n",
    "nax = ncol * nrow\n",
    "\n",
    "figsize = (ncol * 8, nrow * 8)\n",
    "\n",
    "fig = matplotlib.pyplot.figure(figsize=figsize)\n",
    "ax = [fig.add_subplot(nrow, ncol, i+1) for i in range(nax)]\n",
    "\n",
    "ax[0].plot(pass_time, hot, '.')\n",
    "ax[0].grid()\n",
    "ax[0].set_xlabel('pass time (min.)')\n",
    "ax[0].set_ylabel('power (dBm)')\n",
    "ax[0].set_title('hot monitor')\n",
    "ax[0].text(0.1, 0.90, 'RMS = {0:.3f}'.format(numpy.std(hot)), transform=_ax.transAxes)\n",
    "\n",
    "ax[1].hist(hot)\n",
    "ax[1].grid()\n",
    "ax[1].set_xlabel('power (dBm)')\n",
    "ax[1].set_ylabel('count')\n",
    "ax[1].set_title('hot monitor')\n",
    "\n",
    "fig.subplots_adjust(wspace=0.4, hspace=0.4)\n",
    "\n",
    "#     matplotlib.pyplot.savefig('./fig/{}.png'.format(path))\n",
    "\n",
    "matplotlib.pyplot.show()"
   ]
  }
 ],
 "metadata": {
  "kernelspec": {
   "display_name": "Python 3",
   "language": "python",
   "name": "python3"
  },
  "language_info": {
   "codemirror_mode": {
    "name": "ipython",
    "version": 3
   },
   "file_extension": ".py",
   "mimetype": "text/x-python",
   "name": "python",
   "nbconvert_exporter": "python",
   "pygments_lexer": "ipython3",
   "version": "3.6.1"
  }
 },
 "nbformat": 4,
 "nbformat_minor": 2
}
